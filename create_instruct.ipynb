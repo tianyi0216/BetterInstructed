{
 "cells": [
  {
   "cell_type": "code",
   "execution_count": 1,
   "metadata": {},
   "outputs": [],
   "source": [
    "import pandas as pd\n",
    "import os\n",
    "import random\n",
    "style_subset = ['anime', 'botero', 'cubism', 'joker', 'modigliani', 'mona_lisa', 'pixar', 'rick_morty_cartoon', 'shrek', 'sketch_hq', 'ukiyoe', 'witcher', 'elf','werewolf']\n",
    "file_name = 'anime.txt botero.txt cubism.txt joker.txt modigliani.txt mona.txt pixar.txt ricky.txt shrek.txt sketch.txt ukiyoe.txt witcher.txt elf.txt werewolf.txt'\n",
    "#convert file_name to list\n",
    "file_name = file_name.split(' ')"
   ]
  },
  {
   "cell_type": "code",
   "execution_count": 2,
   "metadata": {},
   "outputs": [
    {
     "name": "stdout",
     "output_type": "stream",
     "text": [
      "anime.txt\n",
      "botero.txt\n",
      "cubism.txt\n",
      "joker.txt\n",
      "modigliani.txt\n",
      "mona.txt\n",
      "pixar.txt\n",
      "ricky.txt\n",
      "shrek.txt\n",
      "sketch.txt\n",
      "ukiyoe.txt\n",
      "witcher.txt\n",
      "elf.txt\n",
      "werewolf.txt\n"
     ]
    }
   ],
   "source": [
    "for i in file_name:\n",
    "    print(i)"
   ]
  },
  {
   "cell_type": "code",
   "execution_count": 3,
   "metadata": {},
   "outputs": [],
   "source": [
    "instruct = []\n",
    "for i in range(len(file_name)):\n",
    "    file = file_name[i]\n",
    "    f = open(file, 'r')\n",
    "    prompt = f.read()\n",
    "    f.close()\n",
    "\n",
    "    prompt = prompt.split('\\n')\n",
    "\n",
    "    if prompt[0][0] == '\"':\n",
    "        prompt = [p[1:-1]for p in prompt]\n",
    "    else:\n",
    "        prompt = [p for p in prompt]\n",
    "    if i != len(file_name)-1:\n",
    "        selected_items = random.choices(prompt, k=145)\n",
    "    else:\n",
    "        selected_items = random.choices(prompt, k=115)\n",
    "    instruct.extend(selected_items)\n",
    "\n"
   ]
  },
  {
   "cell_type": "code",
   "execution_count": 4,
   "metadata": {},
   "outputs": [],
   "source": [
    "file_path = \"instruction.txt\"\n",
    "\n",
    "# Open the file in write mode\n",
    "with open(file_path, 'w') as file:\n",
    "    # Write each sentence on a new line\n",
    "    for sentence in instruct:\n",
    "        file.write(sentence + '\\n')"
   ]
  },
  {
   "cell_type": "code",
   "execution_count": null,
   "metadata": {},
   "outputs": [],
   "source": []
  }
 ],
 "metadata": {
  "kernelspec": {
   "display_name": "research",
   "language": "python",
   "name": "python3"
  },
  "language_info": {
   "codemirror_mode": {
    "name": "ipython",
    "version": 3
   },
   "file_extension": ".py",
   "mimetype": "text/x-python",
   "name": "python",
   "nbconvert_exporter": "python",
   "pygments_lexer": "ipython3",
   "version": "3.11.5"
  }
 },
 "nbformat": 4,
 "nbformat_minor": 2
}
