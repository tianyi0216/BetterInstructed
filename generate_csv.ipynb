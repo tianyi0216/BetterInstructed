{
 "cells": [
  {
   "cell_type": "code",
   "execution_count": 44,
   "metadata": {},
   "outputs": [],
   "source": [
    "# imports\n",
    "import pandas as pd\n",
    "import os\n",
    "import random"
   ]
  },
  {
   "cell_type": "code",
   "execution_count": 45,
   "metadata": {},
   "outputs": [],
   "source": [
    "f = open('prompt.txt', 'r')\n",
    "prompt = f.read()\n",
    "f.close()"
   ]
  },
  {
   "cell_type": "code",
   "execution_count": 46,
   "metadata": {},
   "outputs": [],
   "source": [
    "prompt = prompt.split('\\n')"
   ]
  },
  {
   "cell_type": "code",
   "execution_count": 47,
   "metadata": {},
   "outputs": [],
   "source": [
    "prompt = [p[1:-1]for p in prompt]"
   ]
  },
  {
   "cell_type": "code",
   "execution_count": 48,
   "metadata": {},
   "outputs": [
    {
     "data": {
      "text/plain": [
       "['Make this image ukiyoe style.',\n",
       " 'Change the image to ukiyoe.',\n",
       " 'Make the human ukioye.',\n",
       " 'Make the face in the image ukiyoe style.',\n",
       " 'Apply Ukiyo-e style to this image.',\n",
       " 'Transform image into Ukiyo-e art.',\n",
       " 'Convert human figure to Ukiyo-e style.',\n",
       " 'Restyle face in image to Ukiyo-e look.',\n",
       " 'Reimagine this image with Ukiyo-e aesthetics.',\n",
       " 'Redesign the image, adopting Ukiyo-e style.',\n",
       " 'Alter human subject to reflect Ukiyo-e art form.',\n",
       " 'Adapt the facial details in the image to Ukiyo-e style.',\n",
       " 'Remodel the image in Ukiyo-e fashion.',\n",
       " 'Shift image appearance to Ukiyo-e motif.',\n",
       " 'Reinterpret the human form in Ukiyo-e style.',\n",
       " 'Craft the face in the image in Ukiyo-e manner.',\n",
       " 'Morph this image to match Ukiyo-e artistry.',\n",
       " 'Refashion the image with Ukiyo-e characteristics.',\n",
       " 'Render human aspect in Ukiyo-e traditional style.',\n",
       " 'Evolve the facial expression into Ukiyo-e design.',\n",
       " 'Overhaul image aesthetics to Ukiyo-e theme.',\n",
       " 'Revamp the image, embracing Ukiyo-e visuals.',\n",
       " 'Transition human depiction to Ukiyo-e format.',\n",
       " 'Reshape the face in the image with Ukiyo-e traits.',\n",
       " 'Modify this image to Ukiyo-e artistic style.',\n",
       " 'Refine the image into Ukiyo-e visual language.',\n",
       " 'Update human imagery to Ukiyo-e standards.',\n",
       " 'Transform face in image with Ukiyo-e flair.',\n",
       " 'Recreate the image in Ukiyo-e artistic tradition.',\n",
       " 'Convert the image to Ukiyo-e graphic style.',\n",
       " 'Switch human portrayal to Ukiyo-e representation.',\n",
       " 'Reform the facial look to Ukiyo-e elegance.',\n",
       " 'Remake this image in the vein of Ukiyo-e.',\n",
       " 'Rework the image to a Ukiyo-e format.',\n",
       " 'Redefine human figure with Ukiyo-e essence.',\n",
       " 'Tailor the face in the image to Ukiyo-e charm.',\n",
       " 'Alter this image to a Ukiyo-e masterpiece.',\n",
       " 'Change the image to mirror Ukiyo-e artwork.',\n",
       " 'Adapt human appearance to Ukiyo-e stylization.',\n",
       " 'Envision the face in Ukiyo-e pictorial style.',\n",
       " 'Turn the image into a Ukiyo-e rendition.',\n",
       " \"Shape the image in Ukiyo-e's unique style.\",\n",
       " 'Mold human presence in Ukiyo-e artistic form.',\n",
       " 'Recast the facial features in Ukiyo-e perspective.',\n",
       " 'Innovate the image with Ukiyo-e infusion.',\n",
       " \"Revise the image to Ukiyo-e's distinctive style.\",\n",
       " 'Express human identity in Ukiyo-e format.',\n",
       " 'Adorn the face in the image with Ukiyo-e finesse.',\n",
       " 'Incorporate Ukiyo-e art elements into this image.',\n",
       " 'Infuse the image with Ukiyo-e stylistic nuances.']"
      ]
     },
     "execution_count": 48,
     "metadata": {},
     "output_type": "execute_result"
    }
   ],
   "source": [
    "prompt"
   ]
  },
  {
   "cell_type": "code",
   "execution_count": 49,
   "metadata": {},
   "outputs": [],
   "source": [
    "new_df = pd.DataFrame()"
   ]
  },
  {
   "cell_type": "code",
   "execution_count": 50,
   "metadata": {},
   "outputs": [],
   "source": [
    "new_df['source_img'] = None\n",
    "new_df['instruction'] = None\n",
    "new_df['target_img'] = None"
   ]
  },
  {
   "cell_type": "code",
   "execution_count": 51,
   "metadata": {},
   "outputs": [],
   "source": [
    "source_files = os.listdir('source')\n",
    "target_files = os.listdir('target')"
   ]
  },
  {
   "cell_type": "code",
   "execution_count": 52,
   "metadata": {},
   "outputs": [],
   "source": [
    "kept_files = []\n",
    "for f in source_files:\n",
    "    if f.replace('.png', '.jpg') in target_files:\n",
    "        kept_files.append(f)"
   ]
  },
  {
   "cell_type": "code",
   "execution_count": 53,
   "metadata": {},
   "outputs": [],
   "source": [
    "for i in range(len(kept_files)):\n",
    "    new_df.loc[i, 'source_img'] = os.path.join('source', kept_files[i])\n",
    "    new_df.loc[i, 'instruction'] = random.choice(prompt)\n",
    "    new_df.loc[i, 'target_img'] = os.path.join('target', kept_files[i].replace('.png', '.jpg'))"
   ]
  },
  {
   "cell_type": "code",
   "execution_count": 54,
   "metadata": {},
   "outputs": [
    {
     "data": {
      "text/html": [
       "<div>\n",
       "<style scoped>\n",
       "    .dataframe tbody tr th:only-of-type {\n",
       "        vertical-align: middle;\n",
       "    }\n",
       "\n",
       "    .dataframe tbody tr th {\n",
       "        vertical-align: top;\n",
       "    }\n",
       "\n",
       "    .dataframe thead th {\n",
       "        text-align: right;\n",
       "    }\n",
       "</style>\n",
       "<table border=\"1\" class=\"dataframe\">\n",
       "  <thead>\n",
       "    <tr style=\"text-align: right;\">\n",
       "      <th></th>\n",
       "      <th>source_img</th>\n",
       "      <th>instruction</th>\n",
       "      <th>target_img</th>\n",
       "    </tr>\n",
       "  </thead>\n",
       "  <tbody>\n",
       "    <tr>\n",
       "      <th>0</th>\n",
       "      <td>source\\00000.png</td>\n",
       "      <td>Reimagine this image with Ukiyo-e aesthetics.</td>\n",
       "      <td>target\\00000.jpg</td>\n",
       "    </tr>\n",
       "    <tr>\n",
       "      <th>1</th>\n",
       "      <td>source\\00001.png</td>\n",
       "      <td>Recast the facial features in Ukiyo-e perspect...</td>\n",
       "      <td>target\\00001.jpg</td>\n",
       "    </tr>\n",
       "    <tr>\n",
       "      <th>2</th>\n",
       "      <td>source\\00002.png</td>\n",
       "      <td>Adapt the facial details in the image to Ukiyo...</td>\n",
       "      <td>target\\00002.jpg</td>\n",
       "    </tr>\n",
       "    <tr>\n",
       "      <th>3</th>\n",
       "      <td>source\\00003.png</td>\n",
       "      <td>Recast the facial features in Ukiyo-e perspect...</td>\n",
       "      <td>target\\00003.jpg</td>\n",
       "    </tr>\n",
       "    <tr>\n",
       "      <th>4</th>\n",
       "      <td>source\\00004.png</td>\n",
       "      <td>Revise the image to Ukiyo-e's distinctive style.</td>\n",
       "      <td>target\\00004.jpg</td>\n",
       "    </tr>\n",
       "    <tr>\n",
       "      <th>...</th>\n",
       "      <td>...</td>\n",
       "      <td>...</td>\n",
       "      <td>...</td>\n",
       "    </tr>\n",
       "    <tr>\n",
       "      <th>1985</th>\n",
       "      <td>source\\01995.png</td>\n",
       "      <td>Craft the face in the image in Ukiyo-e manner.</td>\n",
       "      <td>target\\01995.jpg</td>\n",
       "    </tr>\n",
       "    <tr>\n",
       "      <th>1986</th>\n",
       "      <td>source\\01996.png</td>\n",
       "      <td>Change the image to ukiyoe.</td>\n",
       "      <td>target\\01996.jpg</td>\n",
       "    </tr>\n",
       "    <tr>\n",
       "      <th>1987</th>\n",
       "      <td>source\\01997.png</td>\n",
       "      <td>Incorporate Ukiyo-e art elements into this image.</td>\n",
       "      <td>target\\01997.jpg</td>\n",
       "    </tr>\n",
       "    <tr>\n",
       "      <th>1988</th>\n",
       "      <td>source\\01998.png</td>\n",
       "      <td>Restyle face in image to Ukiyo-e look.</td>\n",
       "      <td>target\\01998.jpg</td>\n",
       "    </tr>\n",
       "    <tr>\n",
       "      <th>1989</th>\n",
       "      <td>source\\01999.png</td>\n",
       "      <td>Morph this image to match Ukiyo-e artistry.</td>\n",
       "      <td>target\\01999.jpg</td>\n",
       "    </tr>\n",
       "  </tbody>\n",
       "</table>\n",
       "<p>1990 rows × 3 columns</p>\n",
       "</div>"
      ],
      "text/plain": [
       "            source_img                                        instruction  \\\n",
       "0     source\\00000.png      Reimagine this image with Ukiyo-e aesthetics.   \n",
       "1     source\\00001.png  Recast the facial features in Ukiyo-e perspect...   \n",
       "2     source\\00002.png  Adapt the facial details in the image to Ukiyo...   \n",
       "3     source\\00003.png  Recast the facial features in Ukiyo-e perspect...   \n",
       "4     source\\00004.png   Revise the image to Ukiyo-e's distinctive style.   \n",
       "...                ...                                                ...   \n",
       "1985  source\\01995.png     Craft the face in the image in Ukiyo-e manner.   \n",
       "1986  source\\01996.png                        Change the image to ukiyoe.   \n",
       "1987  source\\01997.png  Incorporate Ukiyo-e art elements into this image.   \n",
       "1988  source\\01998.png             Restyle face in image to Ukiyo-e look.   \n",
       "1989  source\\01999.png        Morph this image to match Ukiyo-e artistry.   \n",
       "\n",
       "            target_img  \n",
       "0     target\\00000.jpg  \n",
       "1     target\\00001.jpg  \n",
       "2     target\\00002.jpg  \n",
       "3     target\\00003.jpg  \n",
       "4     target\\00004.jpg  \n",
       "...                ...  \n",
       "1985  target\\01995.jpg  \n",
       "1986  target\\01996.jpg  \n",
       "1987  target\\01997.jpg  \n",
       "1988  target\\01998.jpg  \n",
       "1989  target\\01999.jpg  \n",
       "\n",
       "[1990 rows x 3 columns]"
      ]
     },
     "execution_count": 54,
     "metadata": {},
     "output_type": "execute_result"
    }
   ],
   "source": [
    "new_df"
   ]
  },
  {
   "cell_type": "code",
   "execution_count": 59,
   "metadata": {},
   "outputs": [],
   "source": [
    "new_df.to_csv('label.csv', index=False)"
   ]
  },
  {
   "cell_type": "code",
   "execution_count": 40,
   "metadata": {},
   "outputs": [],
   "source": [
    "# remove unwanted file from data folder\n",
    "for f in source_files:\n",
    "    if f not in kept_files:\n",
    "        os.remove(os.path.join('source', f))"
   ]
  },
  {
   "cell_type": "code",
   "execution_count": 41,
   "metadata": {},
   "outputs": [
    {
     "data": {
      "text/plain": [
       "1990"
      ]
     },
     "execution_count": 41,
     "metadata": {},
     "output_type": "execute_result"
    }
   ],
   "source": [
    "len(os.listdir('source'))"
   ]
  },
  {
   "cell_type": "code",
   "execution_count": 55,
   "metadata": {},
   "outputs": [],
   "source": [
    "# generate parquet file\n",
    "\n",
    "import pandas as pd\n",
    "import os\n",
    "from PIL import Image\n",
    "import io"
   ]
  },
  {
   "cell_type": "code",
   "execution_count": 56,
   "metadata": {},
   "outputs": [],
   "source": [
    "def image_to_bytes(image_path):\n",
    "    \"\"\"Convert an image to bytes.\"\"\"\n",
    "    try:\n",
    "        with Image.open(image_path) as img:\n",
    "            with io.BytesIO() as output:\n",
    "                img.save(output, format='JPEG')  # or 'PNG', depending on your images\n",
    "                return output.getvalue()\n",
    "    except:\n",
    "        print('image with error, consider remove it', image_path)\n",
    "        return None"
   ]
  },
  {
   "cell_type": "code",
   "execution_count": 57,
   "metadata": {},
   "outputs": [],
   "source": [
    "def image_to_bytes_2(image_path):\n",
    "    \"\"\"Convert an image to bytes.\"\"\"\n",
    "    try:\n",
    "        with Image.open(image_path) as img:\n",
    "            with io.BytesIO() as output:\n",
    "                img.save(output, format='PNG')  # or 'PNG', depending on your images\n",
    "                return output.getvalue()\n",
    "    except:\n",
    "        print('image with error, consider remove it', image_path)"
   ]
  },
  {
   "cell_type": "code",
   "execution_count": 29,
   "metadata": {},
   "outputs": [],
   "source": [
    "df = pd.DataFrame()\n",
    "df['source_img'] = None\n",
    "df['instruction'] = None\n",
    "df['target_img'] = None"
   ]
  },
  {
   "cell_type": "code",
   "execution_count": 58,
   "metadata": {},
   "outputs": [
    {
     "data": {
      "text/html": [
       "<div>\n",
       "<style scoped>\n",
       "    .dataframe tbody tr th:only-of-type {\n",
       "        vertical-align: middle;\n",
       "    }\n",
       "\n",
       "    .dataframe tbody tr th {\n",
       "        vertical-align: top;\n",
       "    }\n",
       "\n",
       "    .dataframe thead th {\n",
       "        text-align: right;\n",
       "    }\n",
       "</style>\n",
       "<table border=\"1\" class=\"dataframe\">\n",
       "  <thead>\n",
       "    <tr style=\"text-align: right;\">\n",
       "      <th></th>\n",
       "      <th>source_img</th>\n",
       "      <th>instruction</th>\n",
       "      <th>target_img</th>\n",
       "    </tr>\n",
       "  </thead>\n",
       "  <tbody>\n",
       "    <tr>\n",
       "      <th>0</th>\n",
       "      <td>source\\00000.png</td>\n",
       "      <td>Reimagine this image with Ukiyo-e aesthetics.</td>\n",
       "      <td>target\\00000.jpg</td>\n",
       "    </tr>\n",
       "    <tr>\n",
       "      <th>1</th>\n",
       "      <td>source\\00001.png</td>\n",
       "      <td>Recast the facial features in Ukiyo-e perspect...</td>\n",
       "      <td>target\\00001.jpg</td>\n",
       "    </tr>\n",
       "    <tr>\n",
       "      <th>2</th>\n",
       "      <td>source\\00002.png</td>\n",
       "      <td>Adapt the facial details in the image to Ukiyo...</td>\n",
       "      <td>target\\00002.jpg</td>\n",
       "    </tr>\n",
       "    <tr>\n",
       "      <th>3</th>\n",
       "      <td>source\\00003.png</td>\n",
       "      <td>Recast the facial features in Ukiyo-e perspect...</td>\n",
       "      <td>target\\00003.jpg</td>\n",
       "    </tr>\n",
       "    <tr>\n",
       "      <th>4</th>\n",
       "      <td>source\\00004.png</td>\n",
       "      <td>Revise the image to Ukiyo-e's distinctive style.</td>\n",
       "      <td>target\\00004.jpg</td>\n",
       "    </tr>\n",
       "    <tr>\n",
       "      <th>...</th>\n",
       "      <td>...</td>\n",
       "      <td>...</td>\n",
       "      <td>...</td>\n",
       "    </tr>\n",
       "    <tr>\n",
       "      <th>1985</th>\n",
       "      <td>source\\01995.png</td>\n",
       "      <td>Craft the face in the image in Ukiyo-e manner.</td>\n",
       "      <td>target\\01995.jpg</td>\n",
       "    </tr>\n",
       "    <tr>\n",
       "      <th>1986</th>\n",
       "      <td>source\\01996.png</td>\n",
       "      <td>Change the image to ukiyoe.</td>\n",
       "      <td>target\\01996.jpg</td>\n",
       "    </tr>\n",
       "    <tr>\n",
       "      <th>1987</th>\n",
       "      <td>source\\01997.png</td>\n",
       "      <td>Incorporate Ukiyo-e art elements into this image.</td>\n",
       "      <td>target\\01997.jpg</td>\n",
       "    </tr>\n",
       "    <tr>\n",
       "      <th>1988</th>\n",
       "      <td>source\\01998.png</td>\n",
       "      <td>Restyle face in image to Ukiyo-e look.</td>\n",
       "      <td>target\\01998.jpg</td>\n",
       "    </tr>\n",
       "    <tr>\n",
       "      <th>1989</th>\n",
       "      <td>source\\01999.png</td>\n",
       "      <td>Morph this image to match Ukiyo-e artistry.</td>\n",
       "      <td>target\\01999.jpg</td>\n",
       "    </tr>\n",
       "  </tbody>\n",
       "</table>\n",
       "<p>1990 rows × 3 columns</p>\n",
       "</div>"
      ],
      "text/plain": [
       "            source_img                                        instruction  \\\n",
       "0     source\\00000.png      Reimagine this image with Ukiyo-e aesthetics.   \n",
       "1     source\\00001.png  Recast the facial features in Ukiyo-e perspect...   \n",
       "2     source\\00002.png  Adapt the facial details in the image to Ukiyo...   \n",
       "3     source\\00003.png  Recast the facial features in Ukiyo-e perspect...   \n",
       "4     source\\00004.png   Revise the image to Ukiyo-e's distinctive style.   \n",
       "...                ...                                                ...   \n",
       "1985  source\\01995.png     Craft the face in the image in Ukiyo-e manner.   \n",
       "1986  source\\01996.png                        Change the image to ukiyoe.   \n",
       "1987  source\\01997.png  Incorporate Ukiyo-e art elements into this image.   \n",
       "1988  source\\01998.png             Restyle face in image to Ukiyo-e look.   \n",
       "1989  source\\01999.png        Morph this image to match Ukiyo-e artistry.   \n",
       "\n",
       "            target_img  \n",
       "0     target\\00000.jpg  \n",
       "1     target\\00001.jpg  \n",
       "2     target\\00002.jpg  \n",
       "3     target\\00003.jpg  \n",
       "4     target\\00004.jpg  \n",
       "...                ...  \n",
       "1985  target\\01995.jpg  \n",
       "1986  target\\01996.jpg  \n",
       "1987  target\\01997.jpg  \n",
       "1988  target\\01998.jpg  \n",
       "1989  target\\01999.jpg  \n",
       "\n",
       "[1990 rows x 3 columns]"
      ]
     },
     "execution_count": 58,
     "metadata": {},
     "output_type": "execute_result"
    }
   ],
   "source": [
    "new_df"
   ]
  },
  {
   "cell_type": "code",
   "execution_count": null,
   "metadata": {},
   "outputs": [],
   "source": [
    "# drop "
   ]
  },
  {
   "cell_type": "code",
   "execution_count": 60,
   "metadata": {},
   "outputs": [
    {
     "name": "stdout",
     "output_type": "stream",
     "text": [
      "image with error, consider remove it target\\01006.jpg\n"
     ]
    }
   ],
   "source": [
    "new_df['target_img'] = new_df['target_img'].apply(lambda x: image_to_bytes(x))"
   ]
  },
  {
   "cell_type": "code",
   "execution_count": 59,
   "metadata": {},
   "outputs": [],
   "source": [
    "new_df['source_img'] = new_df['source_img'].apply(lambda x: image_to_bytes_2(x))"
   ]
  },
  {
   "cell_type": "code",
   "execution_count": 42,
   "metadata": {},
   "outputs": [
    {
     "data": {
      "text/html": [
       "<div>\n",
       "<style scoped>\n",
       "    .dataframe tbody tr th:only-of-type {\n",
       "        vertical-align: middle;\n",
       "    }\n",
       "\n",
       "    .dataframe tbody tr th {\n",
       "        vertical-align: top;\n",
       "    }\n",
       "\n",
       "    .dataframe thead th {\n",
       "        text-align: right;\n",
       "    }\n",
       "</style>\n",
       "<table border=\"1\" class=\"dataframe\">\n",
       "  <thead>\n",
       "    <tr style=\"text-align: right;\">\n",
       "      <th></th>\n",
       "      <th>source_img</th>\n",
       "      <th>instruction</th>\n",
       "      <th>target_img</th>\n",
       "    </tr>\n",
       "  </thead>\n",
       "  <tbody>\n",
       "  </tbody>\n",
       "</table>\n",
       "</div>"
      ],
      "text/plain": [
       "Empty DataFrame\n",
       "Columns: [source_img, instruction, target_img]\n",
       "Index: []"
      ]
     },
     "execution_count": 42,
     "metadata": {},
     "output_type": "execute_result"
    }
   ],
   "source": [
    "# check rows with None\n",
    "new_df[new_df['target_img'].isnull()]"
   ]
  },
  {
   "cell_type": "code",
   "execution_count": 40,
   "metadata": {},
   "outputs": [
    {
     "data": {
      "text/html": [
       "<div>\n",
       "<style scoped>\n",
       "    .dataframe tbody tr th:only-of-type {\n",
       "        vertical-align: middle;\n",
       "    }\n",
       "\n",
       "    .dataframe tbody tr th {\n",
       "        vertical-align: top;\n",
       "    }\n",
       "\n",
       "    .dataframe thead th {\n",
       "        text-align: right;\n",
       "    }\n",
       "</style>\n",
       "<table border=\"1\" class=\"dataframe\">\n",
       "  <thead>\n",
       "    <tr style=\"text-align: right;\">\n",
       "      <th></th>\n",
       "      <th>source_img</th>\n",
       "      <th>instruction</th>\n",
       "      <th>target_img</th>\n",
       "    </tr>\n",
       "  </thead>\n",
       "  <tbody>\n",
       "    <tr>\n",
       "      <th>0</th>\n",
       "      <td>{'bytes': b'\\x89PNG\\r\\n\\x1a\\n\\x00\\x00\\x00\\rIHD...</td>\n",
       "      <td>Shape the image in Ukiyo-e's unique style.</td>\n",
       "      <td>{'bytes': b'\\xff\\xd8\\xff\\xe0\\x00\\x10JFIF\\x00\\x...</td>\n",
       "    </tr>\n",
       "    <tr>\n",
       "      <th>1</th>\n",
       "      <td>{'bytes': b'\\x89PNG\\r\\n\\x1a\\n\\x00\\x00\\x00\\rIHD...</td>\n",
       "      <td>Apply Ukiyo-e style to this image.</td>\n",
       "      <td>{'bytes': b'\\xff\\xd8\\xff\\xe0\\x00\\x10JFIF\\x00\\x...</td>\n",
       "    </tr>\n",
       "    <tr>\n",
       "      <th>2</th>\n",
       "      <td>{'bytes': b'\\x89PNG\\r\\n\\x1a\\n\\x00\\x00\\x00\\rIHD...</td>\n",
       "      <td>Make the face in the image ukiyoe style.</td>\n",
       "      <td>{'bytes': b'\\xff\\xd8\\xff\\xe0\\x00\\x10JFIF\\x00\\x...</td>\n",
       "    </tr>\n",
       "    <tr>\n",
       "      <th>3</th>\n",
       "      <td>{'bytes': b'\\x89PNG\\r\\n\\x1a\\n\\x00\\x00\\x00\\rIHD...</td>\n",
       "      <td>Adorn the face in the image with Ukiyo-e finesse.</td>\n",
       "      <td>{'bytes': b'\\xff\\xd8\\xff\\xe0\\x00\\x10JFIF\\x00\\x...</td>\n",
       "    </tr>\n",
       "    <tr>\n",
       "      <th>4</th>\n",
       "      <td>{'bytes': b'\\x89PNG\\r\\n\\x1a\\n\\x00\\x00\\x00\\rIHD...</td>\n",
       "      <td>Mold human presence in Ukiyo-e artistic form.</td>\n",
       "      <td>{'bytes': b'\\xff\\xd8\\xff\\xe0\\x00\\x10JFIF\\x00\\x...</td>\n",
       "    </tr>\n",
       "    <tr>\n",
       "      <th>...</th>\n",
       "      <td>...</td>\n",
       "      <td>...</td>\n",
       "      <td>...</td>\n",
       "    </tr>\n",
       "    <tr>\n",
       "      <th>1985</th>\n",
       "      <td>{'bytes': b'\\x89PNG\\r\\n\\x1a\\n\\x00\\x00\\x00\\rIHD...</td>\n",
       "      <td>Remodel the image in Ukiyo-e fashion.</td>\n",
       "      <td>{'bytes': b'\\xff\\xd8\\xff\\xe0\\x00\\x10JFIF\\x00\\x...</td>\n",
       "    </tr>\n",
       "    <tr>\n",
       "      <th>1986</th>\n",
       "      <td>{'bytes': b'\\x89PNG\\r\\n\\x1a\\n\\x00\\x00\\x00\\rIHD...</td>\n",
       "      <td>Alter human subject to reflect Ukiyo-e art form.</td>\n",
       "      <td>{'bytes': b'\\xff\\xd8\\xff\\xe0\\x00\\x10JFIF\\x00\\x...</td>\n",
       "    </tr>\n",
       "    <tr>\n",
       "      <th>1987</th>\n",
       "      <td>{'bytes': b'\\x89PNG\\r\\n\\x1a\\n\\x00\\x00\\x00\\rIHD...</td>\n",
       "      <td>Incorporate Ukiyo-e art elements into this image.</td>\n",
       "      <td>{'bytes': b'\\xff\\xd8\\xff\\xe0\\x00\\x10JFIF\\x00\\x...</td>\n",
       "    </tr>\n",
       "    <tr>\n",
       "      <th>1988</th>\n",
       "      <td>{'bytes': b'\\x89PNG\\r\\n\\x1a\\n\\x00\\x00\\x00\\rIHD...</td>\n",
       "      <td>Adapt the facial details in the image to Ukiyo...</td>\n",
       "      <td>{'bytes': b'\\xff\\xd8\\xff\\xe0\\x00\\x10JFIF\\x00\\x...</td>\n",
       "    </tr>\n",
       "    <tr>\n",
       "      <th>1989</th>\n",
       "      <td>{'bytes': b'\\x89PNG\\r\\n\\x1a\\n\\x00\\x00\\x00\\rIHD...</td>\n",
       "      <td>Recreate the image in Ukiyo-e artistic tradition.</td>\n",
       "      <td>{'bytes': b'\\xff\\xd8\\xff\\xe0\\x00\\x10JFIF\\x00\\x...</td>\n",
       "    </tr>\n",
       "  </tbody>\n",
       "</table>\n",
       "<p>1990 rows × 3 columns</p>\n",
       "</div>"
      ],
      "text/plain": [
       "                                             source_img  \\\n",
       "0     {'bytes': b'\\x89PNG\\r\\n\\x1a\\n\\x00\\x00\\x00\\rIHD...   \n",
       "1     {'bytes': b'\\x89PNG\\r\\n\\x1a\\n\\x00\\x00\\x00\\rIHD...   \n",
       "2     {'bytes': b'\\x89PNG\\r\\n\\x1a\\n\\x00\\x00\\x00\\rIHD...   \n",
       "3     {'bytes': b'\\x89PNG\\r\\n\\x1a\\n\\x00\\x00\\x00\\rIHD...   \n",
       "4     {'bytes': b'\\x89PNG\\r\\n\\x1a\\n\\x00\\x00\\x00\\rIHD...   \n",
       "...                                                 ...   \n",
       "1985  {'bytes': b'\\x89PNG\\r\\n\\x1a\\n\\x00\\x00\\x00\\rIHD...   \n",
       "1986  {'bytes': b'\\x89PNG\\r\\n\\x1a\\n\\x00\\x00\\x00\\rIHD...   \n",
       "1987  {'bytes': b'\\x89PNG\\r\\n\\x1a\\n\\x00\\x00\\x00\\rIHD...   \n",
       "1988  {'bytes': b'\\x89PNG\\r\\n\\x1a\\n\\x00\\x00\\x00\\rIHD...   \n",
       "1989  {'bytes': b'\\x89PNG\\r\\n\\x1a\\n\\x00\\x00\\x00\\rIHD...   \n",
       "\n",
       "                                            instruction  \\\n",
       "0            Shape the image in Ukiyo-e's unique style.   \n",
       "1                    Apply Ukiyo-e style to this image.   \n",
       "2              Make the face in the image ukiyoe style.   \n",
       "3     Adorn the face in the image with Ukiyo-e finesse.   \n",
       "4         Mold human presence in Ukiyo-e artistic form.   \n",
       "...                                                 ...   \n",
       "1985              Remodel the image in Ukiyo-e fashion.   \n",
       "1986   Alter human subject to reflect Ukiyo-e art form.   \n",
       "1987  Incorporate Ukiyo-e art elements into this image.   \n",
       "1988  Adapt the facial details in the image to Ukiyo...   \n",
       "1989  Recreate the image in Ukiyo-e artistic tradition.   \n",
       "\n",
       "                                             target_img  \n",
       "0     {'bytes': b'\\xff\\xd8\\xff\\xe0\\x00\\x10JFIF\\x00\\x...  \n",
       "1     {'bytes': b'\\xff\\xd8\\xff\\xe0\\x00\\x10JFIF\\x00\\x...  \n",
       "2     {'bytes': b'\\xff\\xd8\\xff\\xe0\\x00\\x10JFIF\\x00\\x...  \n",
       "3     {'bytes': b'\\xff\\xd8\\xff\\xe0\\x00\\x10JFIF\\x00\\x...  \n",
       "4     {'bytes': b'\\xff\\xd8\\xff\\xe0\\x00\\x10JFIF\\x00\\x...  \n",
       "...                                                 ...  \n",
       "1985  {'bytes': b'\\xff\\xd8\\xff\\xe0\\x00\\x10JFIF\\x00\\x...  \n",
       "1986  {'bytes': b'\\xff\\xd8\\xff\\xe0\\x00\\x10JFIF\\x00\\x...  \n",
       "1987  {'bytes': b'\\xff\\xd8\\xff\\xe0\\x00\\x10JFIF\\x00\\x...  \n",
       "1988  {'bytes': b'\\xff\\xd8\\xff\\xe0\\x00\\x10JFIF\\x00\\x...  \n",
       "1989  {'bytes': b'\\xff\\xd8\\xff\\xe0\\x00\\x10JFIF\\x00\\x...  \n",
       "\n",
       "[1990 rows x 3 columns]"
      ]
     },
     "execution_count": 40,
     "metadata": {},
     "output_type": "execute_result"
    }
   ],
   "source": [
    "# drop error image\n",
    "new_df = new_df.dropna()\n",
    "new_df"
   ]
  },
  {
   "cell_type": "code",
   "execution_count": 43,
   "metadata": {},
   "outputs": [
    {
     "name": "stderr",
     "output_type": "stream",
     "text": [
      "c:\\Users\\tiany\\anaconda3\\Lib\\site-packages\\pyarrow\\pandas_compat.py:373: FutureWarning: is_sparse is deprecated and will be removed in a future version. Check `isinstance(dtype, pd.SparseDtype)` instead.\n",
      "  if _pandas_api.is_sparse(col):\n"
     ]
    }
   ],
   "source": [
    "new_df.to_parquet('train.parquet', index=False)"
   ]
  }
 ],
 "metadata": {
  "kernelspec": {
   "display_name": "base",
   "language": "python",
   "name": "python3"
  },
  "language_info": {
   "codemirror_mode": {
    "name": "ipython",
    "version": 3
   },
   "file_extension": ".py",
   "mimetype": "text/x-python",
   "name": "python",
   "nbconvert_exporter": "python",
   "pygments_lexer": "ipython3",
   "version": "3.11.5"
  }
 },
 "nbformat": 4,
 "nbformat_minor": 2
}
